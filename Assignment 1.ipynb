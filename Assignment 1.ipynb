{
 "cells": [
  {
   "cell_type": "markdown",
   "metadata": {},
   "source": [
    "---\n",
    "\n",
    "_You are currently looking at **version 1.1** of this notebook. To download notebooks and datafiles, as well as get help on Jupyter notebooks in the Coursera platform, visit the [Jupyter Notebook FAQ](https://www.coursera.org/learn/python-social-network-analysis/resources/yPcBs) course resource._\n",
    "\n",
    "---"
   ]
  },
  {
   "cell_type": "markdown",
   "metadata": {},
   "source": [
    "# Assignment 1 - Creating and Manipulating Graphs\n",
    "\n",
    "Eight employees at a small company were asked to choose 3 movies that they would most enjoy watching for the upcoming company movie night. These choices are stored in the file `Employee_Movie_Choices.txt`.\n",
    "\n",
    "A second file, `Employee_Relationships.txt`, has data on the relationships between different coworkers. \n",
    "\n",
    "The relationship score has value of `-100` (Enemies) to `+100` (Best Friends). A value of zero means the two employees haven't interacted or are indifferent.\n",
    "\n",
    "Both files are tab delimited."
   ]
  },
  {
   "cell_type": "code",
   "execution_count": 1,
   "metadata": {
    "collapsed": true
   },
   "outputs": [],
   "source": [
    "import networkx as nx\n",
    "import pandas as pd\n",
    "import numpy as np\n",
    "from networkx.algorithms import bipartite\n",
    "\n",
    "\n",
    "# This is the set of employees\n",
    "employees = set(['Pablo',\n",
    "                 'Lee',\n",
    "                 'Georgia',\n",
    "                 'Vincent',\n",
    "                 'Andy',\n",
    "                 'Frida',\n",
    "                 'Joan',\n",
    "                 'Claude'])\n",
    "\n",
    "# This is the set of movies\n",
    "movies = set(['The Shawshank Redemption',\n",
    "              'Forrest Gump',\n",
    "              'The Matrix',\n",
    "              'Anaconda',\n",
    "              'The Social Network',\n",
    "              'The Godfather',\n",
    "              'Monty Python and the Holy Grail',\n",
    "              'Snakes on a Plane',\n",
    "              'Kung Fu Panda',\n",
    "              'The Dark Knight',\n",
    "              'Mean Girls'])\n",
    "\n",
    "\n",
    "# you can use the following function to plot graphs\n",
    "# make sure to comment it out before submitting to the autograder\n",
    "def plot_graph(G, weight_name=None):\n",
    "    '''\n",
    "    G: a networkx G\n",
    "    weight_name: name of the attribute for plotting edge weights (if G is weighted)\n",
    "    '''\n",
    "    %matplotlib notebook\n",
    "    import matplotlib.pyplot as plt\n",
    "    \n",
    "    plt.figure()\n",
    "    pos = nx.spring_layout(G)\n",
    "    edges = G.edges()\n",
    "    weights = None\n",
    "    \n",
    "    if weight_name:\n",
    "        weights = [int(G[u][v][weight_name]) for u,v in edges]\n",
    "        labels = nx.get_edge_attributes(G,weight_name)\n",
    "        nx.draw_networkx_edge_labels(G,pos,edge_labels=labels)\n",
    "        nx.draw_networkx(G, pos, edges=edges, width=weights);\n",
    "    else:\n",
    "        nx.draw_networkx(G, pos, edges=edges);"
   ]
  },
  {
   "cell_type": "code",
   "execution_count": 2,
   "metadata": {
    "collapsed": false
   },
   "outputs": [
    {
     "name": "stdout",
     "output_type": "stream",
     "text": [
      "#Employee\tMovie\r\n",
      "Andy\tAnaconda\r\n",
      "Andy\tMean Girls\r\n",
      "Andy\tThe Matrix\r\n",
      "Claude\tAnaconda\r\n"
     ]
    }
   ],
   "source": [
    "!head -5 Employee_Movie_Choices.txt"
   ]
  },
  {
   "cell_type": "code",
   "execution_count": 3,
   "metadata": {
    "collapsed": false
   },
   "outputs": [
    {
     "name": "stdout",
     "output_type": "stream",
     "text": [
      "Andy\tClaude\t0\r\n",
      "Andy\tFrida\t20\r\n",
      "Andy\tGeorgia\t-10\r\n",
      "Andy\tJoan\t30\r\n",
      "Andy\tLee\t-10\r\n"
     ]
    }
   ],
   "source": [
    "!head -5 Employee_Relationships.txt"
   ]
  },
  {
   "cell_type": "markdown",
   "metadata": {},
   "source": [
    "### Question 1\n",
    "\n",
    "Using NetworkX, load in the bipartite graph from `Employee_Movie_Choices.txt` and return that graph.\n",
    "\n",
    "*This function should return a networkx graph with 19 nodes and 24 edges*"
   ]
  },
  {
   "cell_type": "code",
   "execution_count": 4,
   "metadata": {
    "collapsed": true
   },
   "outputs": [],
   "source": [
    "def answer_one():\n",
    "        \n",
    "    # Your Code Here\n",
    "    B = nx.read_edgelist('Employee_Movie_Choices.txt', delimiter=\"\\t\")\n",
    "    \n",
    "#     X, Y = bipartite.sets(B) ### separate the two sets\n",
    "    pos= dict()\n",
    "    pos.update((n, (1, i)) for i, n in enumerate(employees)) \n",
    "    pos.update((n, (2, i)) for i , n in enumerate(movies))\n",
    "#     nx.draw(B,  pos = pos)\n",
    "    nx.draw_networkx(B,  pos = pos)\n",
    "#     plot_graph(B)\n",
    "    return B# Your Answer Here\n"
   ]
  },
  {
   "cell_type": "code",
   "execution_count": 5,
   "metadata": {
    "collapsed": false
   },
   "outputs": [],
   "source": [
    "B = answer_one()"
   ]
  },
  {
   "cell_type": "markdown",
   "metadata": {},
   "source": [
    "### Question 2\n",
    "\n",
    "Using the graph from the previous question, add nodes attributes named `'type'` where movies have the value `'movie'` and employees have the value `'employee'` and return that graph.\n",
    "\n",
    "*This function should return a networkx graph with node attributes `{'type': 'movie'}` or `{'type': 'employee'}`*"
   ]
  },
  {
   "cell_type": "code",
   "execution_count": 6,
   "metadata": {
    "collapsed": true
   },
   "outputs": [],
   "source": [
    "def answer_two():\n",
    "    \n",
    "    # Your Code Here\n",
    "#     X, Y = bipartite.sets(B)\n",
    "    for n in B.nodes():\n",
    "        if n in movies:\n",
    "            B.add_node(n, type='movie')\n",
    "        elif n in employees:\n",
    "            B.add_node(n, type='employee')\n",
    "    return B# Your Answer Here"
   ]
  },
  {
   "cell_type": "code",
   "execution_count": 7,
   "metadata": {
    "collapsed": false
   },
   "outputs": [],
   "source": [
    "B=answer_two()"
   ]
  },
  {
   "cell_type": "code",
   "execution_count": 8,
   "metadata": {
    "collapsed": false
   },
   "outputs": [
    {
     "data": {
      "text/plain": [
       "[('Vincent', {'type': 'employee'}),\n",
       " ('Andy', {'type': 'employee'}),\n",
       " ('Anaconda', {'type': 'movie'}),\n",
       " ('Pablo', {'type': 'employee'}),\n",
       " ('Mean Girls', {'type': 'movie'}),\n",
       " ('Forrest Gump', {'type': 'movie'}),\n",
       " ('Joan', {'type': 'employee'}),\n",
       " ('Kung Fu Panda', {'type': 'movie'}),\n",
       " ('Frida', {'type': 'employee'}),\n",
       " ('The Godfather', {'type': 'movie'}),\n",
       " ('Monty Python and the Holy Grail', {'type': 'movie'}),\n",
       " ('The Social Network', {'type': 'movie'}),\n",
       " ('The Matrix', {'type': 'movie'}),\n",
       " ('The Dark Knight', {'type': 'movie'}),\n",
       " ('Lee', {'type': 'employee'}),\n",
       " ('Georgia', {'type': 'employee'}),\n",
       " ('Snakes on a Plane', {'type': 'movie'}),\n",
       " ('Claude', {'type': 'employee'}),\n",
       " ('The Shawshank Redemption', {'type': 'movie'})]"
      ]
     },
     "execution_count": 8,
     "metadata": {},
     "output_type": "execute_result"
    }
   ],
   "source": [
    "B.nodes(data=True)"
   ]
  },
  {
   "cell_type": "markdown",
   "metadata": {
    "collapsed": true
   },
   "source": [
    "### Question 3\n",
    "\n",
    "Find a weighted projection of the graph from `answer_two` which tells us how many movies different pairs of employees have in common.\n",
    "\n",
    "*This function should return a weighted projected graph.*"
   ]
  },
  {
   "cell_type": "code",
   "execution_count": 9,
   "metadata": {
    "collapsed": true
   },
   "outputs": [],
   "source": [
    "def answer_three():\n",
    "        \n",
    "    # Your Code Here\n",
    "#     X, Y =  bipartite.sets(B)\n",
    "    weighted_proj_B = bipartite.weighted_projected_graph(B, employees)\n",
    "    return weighted_proj_B# Your Answer Here"
   ]
  },
  {
   "cell_type": "code",
   "execution_count": 10,
   "metadata": {
    "collapsed": false
   },
   "outputs": [
    {
     "data": {
      "text/plain": [
       "[('Vincent', 'Pablo', {'weight': 1}),\n",
       " ('Vincent', 'Frida', {'weight': 2}),\n",
       " ('Andy', 'Frida', {'weight': 1}),\n",
       " ('Andy', 'Pablo', {'weight': 1}),\n",
       " ('Andy', 'Joan', {'weight': 1}),\n",
       " ('Andy', 'Georgia', {'weight': 1}),\n",
       " ('Andy', 'Claude', {'weight': 1}),\n",
       " ('Andy', 'Lee', {'weight': 1}),\n",
       " ('Claude', 'Georgia', {'weight': 3}),\n",
       " ('Pablo', 'Frida', {'weight': 2}),\n",
       " ('Joan', 'Lee', {'weight': 3})]"
      ]
     },
     "execution_count": 10,
     "metadata": {},
     "output_type": "execute_result"
    }
   ],
   "source": [
    "P = answer_three()\n",
    "P.edges(data = True)"
   ]
  },
  {
   "cell_type": "markdown",
   "metadata": {
    "collapsed": true
   },
   "source": [
    "### Question 4\n",
    "\n",
    "Suppose you'd like to find out if people that have a high relationship score also like the same types of movies.\n",
    "\n",
    "Find the Pearson correlation ( using `DataFrame.corr()` ) between employee relationship scores and the number of movies they have in common. If two employees have no movies in common it should be treated as a 0, not a missing value, and should be included in the correlation calculation.\n",
    "\n",
    "*This function should return a float.*"
   ]
  },
  {
   "cell_type": "code",
   "execution_count": 26,
   "metadata": {
    "collapsed": false
   },
   "outputs": [],
   "source": [
    "def answer_four():\n",
    "    ### read in nextworks from Q3\n",
    "    common_movie_df = pd.DataFrame(P.edges(data=True), columns = [0, 1,'#common_movies'])\n",
    "    common_movie_df[\"#common_movies\"] = common_movie_df['#common_movies'].map(lambda x: x['weight'])\n",
    "    common_movie_df\n",
    "    \n",
    "    ### create a duplicate of dataframe, since the df is undirected graph\n",
    "    common_movie_df2 = common_movie_df[[1, 0, \"#common_movies\"]]\n",
    "    common_movie_df2.columns = [0,1,'#common_movies']\n",
    "    common_movie_df2\n",
    "    \n",
    "    ### concat two dataframe to get an updated frame for both directions\n",
    "    common_movie_df = pd.concat([common_movie_df,common_movie_df2])\n",
    "    common_movie_df\n",
    "    \n",
    "    ### read in relations as df\n",
    "    relation_df = pd.read_csv('Employee_Relationships.txt', delimiter=\"\\t\",header=None, names= [0,1, \"Relations\"])\n",
    "    relation_df\n",
    "    \n",
    "    ### left join the relation_df witht he common_book_df to get the final dataframe\n",
    "    merged = relation_df.merge(common_movie_df, on=[0,1], how='left')\n",
    "    merged.fillna(0, inplace=True)\n",
    "    merged.drop_duplicates(inplace=True)\n",
    "    merged.reset_index(drop = True)\n",
    "\n",
    "    return merged.corr().Relations[1] ### return the correlation between the relations and common book val using df.corr()"
   ]
  },
  {
   "cell_type": "code",
   "execution_count": 27,
   "metadata": {
    "collapsed": false
   },
   "outputs": [
    {
     "data": {
      "text/plain": [
       "0.78839622217334759"
      ]
     },
     "execution_count": 27,
     "metadata": {},
     "output_type": "execute_result"
    }
   ],
   "source": [
    "answer_four()"
   ]
  },
  {
   "cell_type": "code",
   "execution_count": null,
   "metadata": {
    "collapsed": true
   },
   "outputs": [],
   "source": []
  }
 ],
 "metadata": {
  "coursera": {
   "course_slug": "python-social-network-analysis",
   "graded_item_id": "YNa9b",
   "launcher_item_id": "hvNc1",
   "part_id": "VbyiB"
  },
  "kernelspec": {
   "display_name": "Python 3",
   "language": "python",
   "name": "python3"
  },
  "language_info": {
   "codemirror_mode": {
    "name": "ipython",
    "version": 3
   },
   "file_extension": ".py",
   "mimetype": "text/x-python",
   "name": "python",
   "nbconvert_exporter": "python",
   "pygments_lexer": "ipython3",
   "version": "3.5.2"
  }
 },
 "nbformat": 4,
 "nbformat_minor": 2
}
