{
 "cells": [
  {
   "cell_type": "markdown",
   "metadata": {},
   "source": [
    "---\n",
    "\n",
    "_You are currently looking at **version 1.1** of this notebook. To download notebooks and datafiles, as well as get help on Jupyter notebooks in the Coursera platform, visit the [Jupyter Notebook FAQ](https://www.coursera.org/learn/python-social-network-analysis/resources/yPcBs) course resource._\n",
    "\n",
    "---"
   ]
  },
  {
   "cell_type": "markdown",
   "metadata": {},
   "source": [
    "# Assignment 2 - Network Connectivity\n",
    "\n",
    "In this assignment you will go through the process of importing and analyzing an internal email communication network between employees of a mid-sized manufacturing company. \n",
    "Each node represents an employee and each directed edge between two nodes represents an individual email. The left node represents the sender and the right node represents the recipient."
   ]
  },
  {
   "cell_type": "code",
   "execution_count": 3,
   "metadata": {
    "collapsed": false
   },
   "outputs": [
    {
     "name": "stdout",
     "output_type": "stream",
     "text": [
      "#Sender\tRecipient\ttime\r\n",
      "1\t2\t1262454010\r\n",
      "1\t3\t1262454010\r\n",
      "1\t4\t1262454010\r\n",
      "1\t5\t1262454010\r\n",
      "1\t6\t1262454010\r\n",
      "1\t7\t1262454010\r\n",
      "1\t8\t1262454010\r\n",
      "1\t9\t1262454010\r\n",
      "1\t10\t1262454010\r\n"
     ]
    }
   ],
   "source": [
    "import networkx as nx\n",
    "%matplotlib notebook\n",
    "import matplotlib.pyplot as plt\n",
    "\n",
    "# This line must be commented out when submitting to the autograder\n",
    "!head email_network.txt"
   ]
  },
  {
   "cell_type": "code",
   "execution_count": 4,
   "metadata": {
    "collapsed": false
   },
   "outputs": [],
   "source": [
    "# !head -100 email_network.txt"
   ]
  },
  {
   "cell_type": "code",
   "execution_count": 5,
   "metadata": {
    "collapsed": false
   },
   "outputs": [
    {
     "name": "stdout",
     "output_type": "stream",
     "text": [
      "   82928 email_network.txt\r\n"
     ]
    }
   ],
   "source": [
    "!wc -l email_network.txt"
   ]
  },
  {
   "cell_type": "markdown",
   "metadata": {},
   "source": [
    "### Question 1\n",
    "\n",
    "Using networkx, load up the directed multigraph from `email_network.txt`. Make sure the node names are strings.\n",
    "\n",
    "*This function should return a directed multigraph networkx graph.*"
   ]
  },
  {
   "cell_type": "code",
   "execution_count": 6,
   "metadata": {
    "collapsed": true
   },
   "outputs": [],
   "source": [
    "def answer_one():\n",
    "    \n",
    "    # Your Code Here\n",
    "    G = nx.read_edgelist('email_network.txt', nodetype=str, create_using=nx.MultiDiGraph(),\n",
    "                         data=[('time', int)])\n",
    "    return G # Your Answer Here"
   ]
  },
  {
   "cell_type": "code",
   "execution_count": 9,
   "metadata": {
    "collapsed": false
   },
   "outputs": [
    {
     "data": {
      "text/plain": [
       "82927"
      ]
     },
     "execution_count": 9,
     "metadata": {},
     "output_type": "execute_result"
    }
   ],
   "source": [
    "G = answer_one()\n",
    "G.number_of_edges()"
   ]
  },
  {
   "cell_type": "code",
   "execution_count": 20,
   "metadata": {
    "collapsed": false
   },
   "outputs": [
    {
     "data": {
      "application/javascript": [
       "/* Put everything inside the global mpl namespace */\n",
       "window.mpl = {};\n",
       "\n",
       "\n",
       "mpl.get_websocket_type = function() {\n",
       "    if (typeof(WebSocket) !== 'undefined') {\n",
       "        return WebSocket;\n",
       "    } else if (typeof(MozWebSocket) !== 'undefined') {\n",
       "        return MozWebSocket;\n",
       "    } else {\n",
       "        alert('Your browser does not have WebSocket support.' +\n",
       "              'Please try Chrome, Safari or Firefox ≥ 6. ' +\n",
       "              'Firefox 4 and 5 are also supported but you ' +\n",
       "              'have to enable WebSockets in about:config.');\n",
       "    };\n",
       "}\n",
       "\n",
       "mpl.figure = function(figure_id, websocket, ondownload, parent_element) {\n",
       "    this.id = figure_id;\n",
       "\n",
       "    this.ws = websocket;\n",
       "\n",
       "    this.supports_binary = (this.ws.binaryType != undefined);\n",
       "\n",
       "    if (!this.supports_binary) {\n",
       "        var warnings = document.getElementById(\"mpl-warnings\");\n",
       "        if (warnings) {\n",
       "            warnings.style.display = 'block';\n",
       "            warnings.textContent = (\n",
       "                \"This browser does not support binary websocket messages. \" +\n",
       "                    \"Performance may be slow.\");\n",
       "        }\n",
       "    }\n",
       "\n",
       "    this.imageObj = new Image();\n",
       "\n",
       "    this.context = undefined;\n",
       "    this.message = undefined;\n",
       "    this.canvas = undefined;\n",
       "    this.rubberband_canvas = undefined;\n",
       "    this.rubberband_context = undefined;\n",
       "    this.format_dropdown = undefined;\n",
       "\n",
       "    this.image_mode = 'full';\n",
       "\n",
       "    this.root = $('<div/>');\n",
       "    this._root_extra_style(this.root)\n",
       "    this.root.attr('style', 'display: inline-block');\n",
       "\n",
       "    $(parent_element).append(this.root);\n",
       "\n",
       "    this._init_header(this);\n",
       "    this._init_canvas(this);\n",
       "    this._init_toolbar(this);\n",
       "\n",
       "    var fig = this;\n",
       "\n",
       "    this.waiting = false;\n",
       "\n",
       "    this.ws.onopen =  function () {\n",
       "            fig.send_message(\"supports_binary\", {value: fig.supports_binary});\n",
       "            fig.send_message(\"send_image_mode\", {});\n",
       "            if (mpl.ratio != 1) {\n",
       "                fig.send_message(\"set_dpi_ratio\", {'dpi_ratio': mpl.ratio});\n",
       "            }\n",
       "            fig.send_message(\"refresh\", {});\n",
       "        }\n",
       "\n",
       "    this.imageObj.onload = function() {\n",
       "            if (fig.image_mode == 'full') {\n",
       "                // Full images could contain transparency (where diff images\n",
       "                // almost always do), so we need to clear the canvas so that\n",
       "                // there is no ghosting.\n",
       "                fig.context.clearRect(0, 0, fig.canvas.width, fig.canvas.height);\n",
       "            }\n",
       "            fig.context.drawImage(fig.imageObj, 0, 0);\n",
       "        };\n",
       "\n",
       "    this.imageObj.onunload = function() {\n",
       "        this.ws.close();\n",
       "    }\n",
       "\n",
       "    this.ws.onmessage = this._make_on_message_function(this);\n",
       "\n",
       "    this.ondownload = ondownload;\n",
       "}\n",
       "\n",
       "mpl.figure.prototype._init_header = function() {\n",
       "    var titlebar = $(\n",
       "        '<div class=\"ui-dialog-titlebar ui-widget-header ui-corner-all ' +\n",
       "        'ui-helper-clearfix\"/>');\n",
       "    var titletext = $(\n",
       "        '<div class=\"ui-dialog-title\" style=\"width: 100%; ' +\n",
       "        'text-align: center; padding: 3px;\"/>');\n",
       "    titlebar.append(titletext)\n",
       "    this.root.append(titlebar);\n",
       "    this.header = titletext[0];\n",
       "}\n",
       "\n",
       "\n",
       "\n",
       "mpl.figure.prototype._canvas_extra_style = function(canvas_div) {\n",
       "\n",
       "}\n",
       "\n",
       "\n",
       "mpl.figure.prototype._root_extra_style = function(canvas_div) {\n",
       "\n",
       "}\n",
       "\n",
       "mpl.figure.prototype._init_canvas = function() {\n",
       "    var fig = this;\n",
       "\n",
       "    var canvas_div = $('<div/>');\n",
       "\n",
       "    canvas_div.attr('style', 'position: relative; clear: both; outline: 0');\n",
       "\n",
       "    function canvas_keyboard_event(event) {\n",
       "        return fig.key_event(event, event['data']);\n",
       "    }\n",
       "\n",
       "    canvas_div.keydown('key_press', canvas_keyboard_event);\n",
       "    canvas_div.keyup('key_release', canvas_keyboard_event);\n",
       "    this.canvas_div = canvas_div\n",
       "    this._canvas_extra_style(canvas_div)\n",
       "    this.root.append(canvas_div);\n",
       "\n",
       "    var canvas = $('<canvas/>');\n",
       "    canvas.addClass('mpl-canvas');\n",
       "    canvas.attr('style', \"left: 0; top: 0; z-index: 0; outline: 0\")\n",
       "\n",
       "    this.canvas = canvas[0];\n",
       "    this.context = canvas[0].getContext(\"2d\");\n",
       "\n",
       "    var backingStore = this.context.backingStorePixelRatio ||\n",
       "\tthis.context.webkitBackingStorePixelRatio ||\n",
       "\tthis.context.mozBackingStorePixelRatio ||\n",
       "\tthis.context.msBackingStorePixelRatio ||\n",
       "\tthis.context.oBackingStorePixelRatio ||\n",
       "\tthis.context.backingStorePixelRatio || 1;\n",
       "\n",
       "    mpl.ratio = (window.devicePixelRatio || 1) / backingStore;\n",
       "\n",
       "    var rubberband = $('<canvas/>');\n",
       "    rubberband.attr('style', \"position: absolute; left: 0; top: 0; z-index: 1;\")\n",
       "\n",
       "    var pass_mouse_events = true;\n",
       "\n",
       "    canvas_div.resizable({\n",
       "        start: function(event, ui) {\n",
       "            pass_mouse_events = false;\n",
       "        },\n",
       "        resize: function(event, ui) {\n",
       "            fig.request_resize(ui.size.width, ui.size.height);\n",
       "        },\n",
       "        stop: function(event, ui) {\n",
       "            pass_mouse_events = true;\n",
       "            fig.request_resize(ui.size.width, ui.size.height);\n",
       "        },\n",
       "    });\n",
       "\n",
       "    function mouse_event_fn(event) {\n",
       "        if (pass_mouse_events)\n",
       "            return fig.mouse_event(event, event['data']);\n",
       "    }\n",
       "\n",
       "    rubberband.mousedown('button_press', mouse_event_fn);\n",
       "    rubberband.mouseup('button_release', mouse_event_fn);\n",
       "    // Throttle sequential mouse events to 1 every 20ms.\n",
       "    rubberband.mousemove('motion_notify', mouse_event_fn);\n",
       "\n",
       "    rubberband.mouseenter('figure_enter', mouse_event_fn);\n",
       "    rubberband.mouseleave('figure_leave', mouse_event_fn);\n",
       "\n",
       "    canvas_div.on(\"wheel\", function (event) {\n",
       "        event = event.originalEvent;\n",
       "        event['data'] = 'scroll'\n",
       "        if (event.deltaY < 0) {\n",
       "            event.step = 1;\n",
       "        } else {\n",
       "            event.step = -1;\n",
       "        }\n",
       "        mouse_event_fn(event);\n",
       "    });\n",
       "\n",
       "    canvas_div.append(canvas);\n",
       "    canvas_div.append(rubberband);\n",
       "\n",
       "    this.rubberband = rubberband;\n",
       "    this.rubberband_canvas = rubberband[0];\n",
       "    this.rubberband_context = rubberband[0].getContext(\"2d\");\n",
       "    this.rubberband_context.strokeStyle = \"#000000\";\n",
       "\n",
       "    this._resize_canvas = function(width, height) {\n",
       "        // Keep the size of the canvas, canvas container, and rubber band\n",
       "        // canvas in synch.\n",
       "        canvas_div.css('width', width)\n",
       "        canvas_div.css('height', height)\n",
       "\n",
       "        canvas.attr('width', width * mpl.ratio);\n",
       "        canvas.attr('height', height * mpl.ratio);\n",
       "        canvas.attr('style', 'width: ' + width + 'px; height: ' + height + 'px;');\n",
       "\n",
       "        rubberband.attr('width', width);\n",
       "        rubberband.attr('height', height);\n",
       "    }\n",
       "\n",
       "    // Set the figure to an initial 600x600px, this will subsequently be updated\n",
       "    // upon first draw.\n",
       "    this._resize_canvas(600, 600);\n",
       "\n",
       "    // Disable right mouse context menu.\n",
       "    $(this.rubberband_canvas).bind(\"contextmenu\",function(e){\n",
       "        return false;\n",
       "    });\n",
       "\n",
       "    function set_focus () {\n",
       "        canvas.focus();\n",
       "        canvas_div.focus();\n",
       "    }\n",
       "\n",
       "    window.setTimeout(set_focus, 100);\n",
       "}\n",
       "\n",
       "mpl.figure.prototype._init_toolbar = function() {\n",
       "    var fig = this;\n",
       "\n",
       "    var nav_element = $('<div/>')\n",
       "    nav_element.attr('style', 'width: 100%');\n",
       "    this.root.append(nav_element);\n",
       "\n",
       "    // Define a callback function for later on.\n",
       "    function toolbar_event(event) {\n",
       "        return fig.toolbar_button_onclick(event['data']);\n",
       "    }\n",
       "    function toolbar_mouse_event(event) {\n",
       "        return fig.toolbar_button_onmouseover(event['data']);\n",
       "    }\n",
       "\n",
       "    for(var toolbar_ind in mpl.toolbar_items) {\n",
       "        var name = mpl.toolbar_items[toolbar_ind][0];\n",
       "        var tooltip = mpl.toolbar_items[toolbar_ind][1];\n",
       "        var image = mpl.toolbar_items[toolbar_ind][2];\n",
       "        var method_name = mpl.toolbar_items[toolbar_ind][3];\n",
       "\n",
       "        if (!name) {\n",
       "            // put a spacer in here.\n",
       "            continue;\n",
       "        }\n",
       "        var button = $('<button/>');\n",
       "        button.addClass('ui-button ui-widget ui-state-default ui-corner-all ' +\n",
       "                        'ui-button-icon-only');\n",
       "        button.attr('role', 'button');\n",
       "        button.attr('aria-disabled', 'false');\n",
       "        button.click(method_name, toolbar_event);\n",
       "        button.mouseover(tooltip, toolbar_mouse_event);\n",
       "\n",
       "        var icon_img = $('<span/>');\n",
       "        icon_img.addClass('ui-button-icon-primary ui-icon');\n",
       "        icon_img.addClass(image);\n",
       "        icon_img.addClass('ui-corner-all');\n",
       "\n",
       "        var tooltip_span = $('<span/>');\n",
       "        tooltip_span.addClass('ui-button-text');\n",
       "        tooltip_span.html(tooltip);\n",
       "\n",
       "        button.append(icon_img);\n",
       "        button.append(tooltip_span);\n",
       "\n",
       "        nav_element.append(button);\n",
       "    }\n",
       "\n",
       "    var fmt_picker_span = $('<span/>');\n",
       "\n",
       "    var fmt_picker = $('<select/>');\n",
       "    fmt_picker.addClass('mpl-toolbar-option ui-widget ui-widget-content');\n",
       "    fmt_picker_span.append(fmt_picker);\n",
       "    nav_element.append(fmt_picker_span);\n",
       "    this.format_dropdown = fmt_picker[0];\n",
       "\n",
       "    for (var ind in mpl.extensions) {\n",
       "        var fmt = mpl.extensions[ind];\n",
       "        var option = $(\n",
       "            '<option/>', {selected: fmt === mpl.default_extension}).html(fmt);\n",
       "        fmt_picker.append(option)\n",
       "    }\n",
       "\n",
       "    // Add hover states to the ui-buttons\n",
       "    $( \".ui-button\" ).hover(\n",
       "        function() { $(this).addClass(\"ui-state-hover\");},\n",
       "        function() { $(this).removeClass(\"ui-state-hover\");}\n",
       "    );\n",
       "\n",
       "    var status_bar = $('<span class=\"mpl-message\"/>');\n",
       "    nav_element.append(status_bar);\n",
       "    this.message = status_bar[0];\n",
       "}\n",
       "\n",
       "mpl.figure.prototype.request_resize = function(x_pixels, y_pixels) {\n",
       "    // Request matplotlib to resize the figure. Matplotlib will then trigger a resize in the client,\n",
       "    // which will in turn request a refresh of the image.\n",
       "    this.send_message('resize', {'width': x_pixels, 'height': y_pixels});\n",
       "}\n",
       "\n",
       "mpl.figure.prototype.send_message = function(type, properties) {\n",
       "    properties['type'] = type;\n",
       "    properties['figure_id'] = this.id;\n",
       "    this.ws.send(JSON.stringify(properties));\n",
       "}\n",
       "\n",
       "mpl.figure.prototype.send_draw_message = function() {\n",
       "    if (!this.waiting) {\n",
       "        this.waiting = true;\n",
       "        this.ws.send(JSON.stringify({type: \"draw\", figure_id: this.id}));\n",
       "    }\n",
       "}\n",
       "\n",
       "\n",
       "mpl.figure.prototype.handle_save = function(fig, msg) {\n",
       "    var format_dropdown = fig.format_dropdown;\n",
       "    var format = format_dropdown.options[format_dropdown.selectedIndex].value;\n",
       "    fig.ondownload(fig, format);\n",
       "}\n",
       "\n",
       "\n",
       "mpl.figure.prototype.handle_resize = function(fig, msg) {\n",
       "    var size = msg['size'];\n",
       "    if (size[0] != fig.canvas.width || size[1] != fig.canvas.height) {\n",
       "        fig._resize_canvas(size[0], size[1]);\n",
       "        fig.send_message(\"refresh\", {});\n",
       "    };\n",
       "}\n",
       "\n",
       "mpl.figure.prototype.handle_rubberband = function(fig, msg) {\n",
       "    var x0 = msg['x0'] / mpl.ratio;\n",
       "    var y0 = (fig.canvas.height - msg['y0']) / mpl.ratio;\n",
       "    var x1 = msg['x1'] / mpl.ratio;\n",
       "    var y1 = (fig.canvas.height - msg['y1']) / mpl.ratio;\n",
       "    x0 = Math.floor(x0) + 0.5;\n",
       "    y0 = Math.floor(y0) + 0.5;\n",
       "    x1 = Math.floor(x1) + 0.5;\n",
       "    y1 = Math.floor(y1) + 0.5;\n",
       "    var min_x = Math.min(x0, x1);\n",
       "    var min_y = Math.min(y0, y1);\n",
       "    var width = Math.abs(x1 - x0);\n",
       "    var height = Math.abs(y1 - y0);\n",
       "\n",
       "    fig.rubberband_context.clearRect(\n",
       "        0, 0, fig.canvas.width, fig.canvas.height);\n",
       "\n",
       "    fig.rubberband_context.strokeRect(min_x, min_y, width, height);\n",
       "}\n",
       "\n",
       "mpl.figure.prototype.handle_figure_label = function(fig, msg) {\n",
       "    // Updates the figure title.\n",
       "    fig.header.textContent = msg['label'];\n",
       "}\n",
       "\n",
       "mpl.figure.prototype.handle_cursor = function(fig, msg) {\n",
       "    var cursor = msg['cursor'];\n",
       "    switch(cursor)\n",
       "    {\n",
       "    case 0:\n",
       "        cursor = 'pointer';\n",
       "        break;\n",
       "    case 1:\n",
       "        cursor = 'default';\n",
       "        break;\n",
       "    case 2:\n",
       "        cursor = 'crosshair';\n",
       "        break;\n",
       "    case 3:\n",
       "        cursor = 'move';\n",
       "        break;\n",
       "    }\n",
       "    fig.rubberband_canvas.style.cursor = cursor;\n",
       "}\n",
       "\n",
       "mpl.figure.prototype.handle_message = function(fig, msg) {\n",
       "    fig.message.textContent = msg['message'];\n",
       "}\n",
       "\n",
       "mpl.figure.prototype.handle_draw = function(fig, msg) {\n",
       "    // Request the server to send over a new figure.\n",
       "    fig.send_draw_message();\n",
       "}\n",
       "\n",
       "mpl.figure.prototype.handle_image_mode = function(fig, msg) {\n",
       "    fig.image_mode = msg['mode'];\n",
       "}\n",
       "\n",
       "mpl.figure.prototype.updated_canvas_event = function() {\n",
       "    // Called whenever the canvas gets updated.\n",
       "    this.send_message(\"ack\", {});\n",
       "}\n",
       "\n",
       "// A function to construct a web socket function for onmessage handling.\n",
       "// Called in the figure constructor.\n",
       "mpl.figure.prototype._make_on_message_function = function(fig) {\n",
       "    return function socket_on_message(evt) {\n",
       "        if (evt.data instanceof Blob) {\n",
       "            /* FIXME: We get \"Resource interpreted as Image but\n",
       "             * transferred with MIME type text/plain:\" errors on\n",
       "             * Chrome.  But how to set the MIME type?  It doesn't seem\n",
       "             * to be part of the websocket stream */\n",
       "            evt.data.type = \"image/png\";\n",
       "\n",
       "            /* Free the memory for the previous frames */\n",
       "            if (fig.imageObj.src) {\n",
       "                (window.URL || window.webkitURL).revokeObjectURL(\n",
       "                    fig.imageObj.src);\n",
       "            }\n",
       "\n",
       "            fig.imageObj.src = (window.URL || window.webkitURL).createObjectURL(\n",
       "                evt.data);\n",
       "            fig.updated_canvas_event();\n",
       "            fig.waiting = false;\n",
       "            return;\n",
       "        }\n",
       "        else if (typeof evt.data === 'string' && evt.data.slice(0, 21) == \"data:image/png;base64\") {\n",
       "            fig.imageObj.src = evt.data;\n",
       "            fig.updated_canvas_event();\n",
       "            fig.waiting = false;\n",
       "            return;\n",
       "        }\n",
       "\n",
       "        var msg = JSON.parse(evt.data);\n",
       "        var msg_type = msg['type'];\n",
       "\n",
       "        // Call the  \"handle_{type}\" callback, which takes\n",
       "        // the figure and JSON message as its only arguments.\n",
       "        try {\n",
       "            var callback = fig[\"handle_\" + msg_type];\n",
       "        } catch (e) {\n",
       "            console.log(\"No handler for the '\" + msg_type + \"' message type: \", msg);\n",
       "            return;\n",
       "        }\n",
       "\n",
       "        if (callback) {\n",
       "            try {\n",
       "                // console.log(\"Handling '\" + msg_type + \"' message: \", msg);\n",
       "                callback(fig, msg);\n",
       "            } catch (e) {\n",
       "                console.log(\"Exception inside the 'handler_\" + msg_type + \"' callback:\", e, e.stack, msg);\n",
       "            }\n",
       "        }\n",
       "    };\n",
       "}\n",
       "\n",
       "// from http://stackoverflow.com/questions/1114465/getting-mouse-location-in-canvas\n",
       "mpl.findpos = function(e) {\n",
       "    //this section is from http://www.quirksmode.org/js/events_properties.html\n",
       "    var targ;\n",
       "    if (!e)\n",
       "        e = window.event;\n",
       "    if (e.target)\n",
       "        targ = e.target;\n",
       "    else if (e.srcElement)\n",
       "        targ = e.srcElement;\n",
       "    if (targ.nodeType == 3) // defeat Safari bug\n",
       "        targ = targ.parentNode;\n",
       "\n",
       "    // jQuery normalizes the pageX and pageY\n",
       "    // pageX,Y are the mouse positions relative to the document\n",
       "    // offset() returns the position of the element relative to the document\n",
       "    var x = e.pageX - $(targ).offset().left;\n",
       "    var y = e.pageY - $(targ).offset().top;\n",
       "\n",
       "    return {\"x\": x, \"y\": y};\n",
       "};\n",
       "\n",
       "/*\n",
       " * return a copy of an object with only non-object keys\n",
       " * we need this to avoid circular references\n",
       " * http://stackoverflow.com/a/24161582/3208463\n",
       " */\n",
       "function simpleKeys (original) {\n",
       "  return Object.keys(original).reduce(function (obj, key) {\n",
       "    if (typeof original[key] !== 'object')\n",
       "        obj[key] = original[key]\n",
       "    return obj;\n",
       "  }, {});\n",
       "}\n",
       "\n",
       "mpl.figure.prototype.mouse_event = function(event, name) {\n",
       "    var canvas_pos = mpl.findpos(event)\n",
       "\n",
       "    if (name === 'button_press')\n",
       "    {\n",
       "        this.canvas.focus();\n",
       "        this.canvas_div.focus();\n",
       "    }\n",
       "\n",
       "    var x = canvas_pos.x * mpl.ratio;\n",
       "    var y = canvas_pos.y * mpl.ratio;\n",
       "\n",
       "    this.send_message(name, {x: x, y: y, button: event.button,\n",
       "                             step: event.step,\n",
       "                             guiEvent: simpleKeys(event)});\n",
       "\n",
       "    /* This prevents the web browser from automatically changing to\n",
       "     * the text insertion cursor when the button is pressed.  We want\n",
       "     * to control all of the cursor setting manually through the\n",
       "     * 'cursor' event from matplotlib */\n",
       "    event.preventDefault();\n",
       "    return false;\n",
       "}\n",
       "\n",
       "mpl.figure.prototype._key_event_extra = function(event, name) {\n",
       "    // Handle any extra behaviour associated with a key event\n",
       "}\n",
       "\n",
       "mpl.figure.prototype.key_event = function(event, name) {\n",
       "\n",
       "    // Prevent repeat events\n",
       "    if (name == 'key_press')\n",
       "    {\n",
       "        if (event.which === this._key)\n",
       "            return;\n",
       "        else\n",
       "            this._key = event.which;\n",
       "    }\n",
       "    if (name == 'key_release')\n",
       "        this._key = null;\n",
       "\n",
       "    var value = '';\n",
       "    if (event.ctrlKey && event.which != 17)\n",
       "        value += \"ctrl+\";\n",
       "    if (event.altKey && event.which != 18)\n",
       "        value += \"alt+\";\n",
       "    if (event.shiftKey && event.which != 16)\n",
       "        value += \"shift+\";\n",
       "\n",
       "    value += 'k';\n",
       "    value += event.which.toString();\n",
       "\n",
       "    this._key_event_extra(event, name);\n",
       "\n",
       "    this.send_message(name, {key: value,\n",
       "                             guiEvent: simpleKeys(event)});\n",
       "    return false;\n",
       "}\n",
       "\n",
       "mpl.figure.prototype.toolbar_button_onclick = function(name) {\n",
       "    if (name == 'download') {\n",
       "        this.handle_save(this, null);\n",
       "    } else {\n",
       "        this.send_message(\"toolbar_button\", {name: name});\n",
       "    }\n",
       "};\n",
       "\n",
       "mpl.figure.prototype.toolbar_button_onmouseover = function(tooltip) {\n",
       "    this.message.textContent = tooltip;\n",
       "};\n",
       "mpl.toolbar_items = [[\"Home\", \"Reset original view\", \"fa fa-home icon-home\", \"home\"], [\"Back\", \"Back to  previous view\", \"fa fa-arrow-left icon-arrow-left\", \"back\"], [\"Forward\", \"Forward to next view\", \"fa fa-arrow-right icon-arrow-right\", \"forward\"], [\"\", \"\", \"\", \"\"], [\"Pan\", \"Pan axes with left mouse, zoom with right\", \"fa fa-arrows icon-move\", \"pan\"], [\"Zoom\", \"Zoom to rectangle\", \"fa fa-square-o icon-check-empty\", \"zoom\"], [\"\", \"\", \"\", \"\"], [\"Download\", \"Download plot\", \"fa fa-floppy-o icon-save\", \"download\"]];\n",
       "\n",
       "mpl.extensions = [\"eps\", \"jpeg\", \"pdf\", \"png\", \"ps\", \"raw\", \"svg\", \"tif\"];\n",
       "\n",
       "mpl.default_extension = \"png\";var comm_websocket_adapter = function(comm) {\n",
       "    // Create a \"websocket\"-like object which calls the given IPython comm\n",
       "    // object with the appropriate methods. Currently this is a non binary\n",
       "    // socket, so there is still some room for performance tuning.\n",
       "    var ws = {};\n",
       "\n",
       "    ws.close = function() {\n",
       "        comm.close()\n",
       "    };\n",
       "    ws.send = function(m) {\n",
       "        //console.log('sending', m);\n",
       "        comm.send(m);\n",
       "    };\n",
       "    // Register the callback with on_msg.\n",
       "    comm.on_msg(function(msg) {\n",
       "        //console.log('receiving', msg['content']['data'], msg);\n",
       "        // Pass the mpl event to the overriden (by mpl) onmessage function.\n",
       "        ws.onmessage(msg['content']['data'])\n",
       "    });\n",
       "    return ws;\n",
       "}\n",
       "\n",
       "mpl.mpl_figure_comm = function(comm, msg) {\n",
       "    // This is the function which gets called when the mpl process\n",
       "    // starts-up an IPython Comm through the \"matplotlib\" channel.\n",
       "\n",
       "    var id = msg.content.data.id;\n",
       "    // Get hold of the div created by the display call when the Comm\n",
       "    // socket was opened in Python.\n",
       "    var element = $(\"#\" + id);\n",
       "    var ws_proxy = comm_websocket_adapter(comm)\n",
       "\n",
       "    function ondownload(figure, format) {\n",
       "        window.open(figure.imageObj.src);\n",
       "    }\n",
       "\n",
       "    var fig = new mpl.figure(id, ws_proxy,\n",
       "                           ondownload,\n",
       "                           element.get(0));\n",
       "\n",
       "    // Call onopen now - mpl needs it, as it is assuming we've passed it a real\n",
       "    // web socket which is closed, not our websocket->open comm proxy.\n",
       "    ws_proxy.onopen();\n",
       "\n",
       "    fig.parent_element = element.get(0);\n",
       "    fig.cell_info = mpl.find_output_cell(\"<div id='\" + id + \"'></div>\");\n",
       "    if (!fig.cell_info) {\n",
       "        console.error(\"Failed to find cell for figure\", id, fig);\n",
       "        return;\n",
       "    }\n",
       "\n",
       "    var output_index = fig.cell_info[2]\n",
       "    var cell = fig.cell_info[0];\n",
       "\n",
       "};\n",
       "\n",
       "mpl.figure.prototype.handle_close = function(fig, msg) {\n",
       "    var width = fig.canvas.width/mpl.ratio\n",
       "    fig.root.unbind('remove')\n",
       "\n",
       "    // Update the output cell to use the data from the current canvas.\n",
       "    fig.push_to_output();\n",
       "    var dataURL = fig.canvas.toDataURL();\n",
       "    // Re-enable the keyboard manager in IPython - without this line, in FF,\n",
       "    // the notebook keyboard shortcuts fail.\n",
       "    IPython.keyboard_manager.enable()\n",
       "    $(fig.parent_element).html('<img src=\"' + dataURL + '\" width=\"' + width + '\">');\n",
       "    fig.close_ws(fig, msg);\n",
       "}\n",
       "\n",
       "mpl.figure.prototype.close_ws = function(fig, msg){\n",
       "    fig.send_message('closing', msg);\n",
       "    // fig.ws.close()\n",
       "}\n",
       "\n",
       "mpl.figure.prototype.push_to_output = function(remove_interactive) {\n",
       "    // Turn the data on the canvas into data in the output cell.\n",
       "    var width = this.canvas.width/mpl.ratio\n",
       "    var dataURL = this.canvas.toDataURL();\n",
       "    this.cell_info[1]['text/html'] = '<img src=\"' + dataURL + '\" width=\"' + width + '\">';\n",
       "}\n",
       "\n",
       "mpl.figure.prototype.updated_canvas_event = function() {\n",
       "    // Tell IPython that the notebook contents must change.\n",
       "    IPython.notebook.set_dirty(true);\n",
       "    this.send_message(\"ack\", {});\n",
       "    var fig = this;\n",
       "    // Wait a second, then push the new image to the DOM so\n",
       "    // that it is saved nicely (might be nice to debounce this).\n",
       "    setTimeout(function () { fig.push_to_output() }, 1000);\n",
       "}\n",
       "\n",
       "mpl.figure.prototype._init_toolbar = function() {\n",
       "    var fig = this;\n",
       "\n",
       "    var nav_element = $('<div/>')\n",
       "    nav_element.attr('style', 'width: 100%');\n",
       "    this.root.append(nav_element);\n",
       "\n",
       "    // Define a callback function for later on.\n",
       "    function toolbar_event(event) {\n",
       "        return fig.toolbar_button_onclick(event['data']);\n",
       "    }\n",
       "    function toolbar_mouse_event(event) {\n",
       "        return fig.toolbar_button_onmouseover(event['data']);\n",
       "    }\n",
       "\n",
       "    for(var toolbar_ind in mpl.toolbar_items){\n",
       "        var name = mpl.toolbar_items[toolbar_ind][0];\n",
       "        var tooltip = mpl.toolbar_items[toolbar_ind][1];\n",
       "        var image = mpl.toolbar_items[toolbar_ind][2];\n",
       "        var method_name = mpl.toolbar_items[toolbar_ind][3];\n",
       "\n",
       "        if (!name) { continue; };\n",
       "\n",
       "        var button = $('<button class=\"btn btn-default\" href=\"#\" title=\"' + name + '\"><i class=\"fa ' + image + ' fa-lg\"></i></button>');\n",
       "        button.click(method_name, toolbar_event);\n",
       "        button.mouseover(tooltip, toolbar_mouse_event);\n",
       "        nav_element.append(button);\n",
       "    }\n",
       "\n",
       "    // Add the status bar.\n",
       "    var status_bar = $('<span class=\"mpl-message\" style=\"text-align:right; float: right;\"/>');\n",
       "    nav_element.append(status_bar);\n",
       "    this.message = status_bar[0];\n",
       "\n",
       "    // Add the close button to the window.\n",
       "    var buttongrp = $('<div class=\"btn-group inline pull-right\"></div>');\n",
       "    var button = $('<button class=\"btn btn-mini btn-primary\" href=\"#\" title=\"Stop Interaction\"><i class=\"fa fa-power-off icon-remove icon-large\"></i></button>');\n",
       "    button.click(function (evt) { fig.handle_close(fig, {}); } );\n",
       "    button.mouseover('Stop Interaction', toolbar_mouse_event);\n",
       "    buttongrp.append(button);\n",
       "    var titlebar = this.root.find($('.ui-dialog-titlebar'));\n",
       "    titlebar.prepend(buttongrp);\n",
       "}\n",
       "\n",
       "mpl.figure.prototype._root_extra_style = function(el){\n",
       "    var fig = this\n",
       "    el.on(\"remove\", function(){\n",
       "\tfig.close_ws(fig, {});\n",
       "    });\n",
       "}\n",
       "\n",
       "mpl.figure.prototype._canvas_extra_style = function(el){\n",
       "    // this is important to make the div 'focusable\n",
       "    el.attr('tabindex', 0)\n",
       "    // reach out to IPython and tell the keyboard manager to turn it's self\n",
       "    // off when our div gets focus\n",
       "\n",
       "    // location in version 3\n",
       "    if (IPython.notebook.keyboard_manager) {\n",
       "        IPython.notebook.keyboard_manager.register_events(el);\n",
       "    }\n",
       "    else {\n",
       "        // location in version 2\n",
       "        IPython.keyboard_manager.register_events(el);\n",
       "    }\n",
       "\n",
       "}\n",
       "\n",
       "mpl.figure.prototype._key_event_extra = function(event, name) {\n",
       "    var manager = IPython.notebook.keyboard_manager;\n",
       "    if (!manager)\n",
       "        manager = IPython.keyboard_manager;\n",
       "\n",
       "    // Check for shift+enter\n",
       "    if (event.shiftKey && event.which == 13) {\n",
       "        this.canvas_div.blur();\n",
       "        // select the cell after this one\n",
       "        var index = IPython.notebook.find_cell_index(this.cell_info[0]);\n",
       "        IPython.notebook.select(index + 1);\n",
       "    }\n",
       "}\n",
       "\n",
       "mpl.figure.prototype.handle_save = function(fig, msg) {\n",
       "    fig.ondownload(fig, null);\n",
       "}\n",
       "\n",
       "\n",
       "mpl.find_output_cell = function(html_output) {\n",
       "    // Return the cell and output element which can be found *uniquely* in the notebook.\n",
       "    // Note - this is a bit hacky, but it is done because the \"notebook_saving.Notebook\"\n",
       "    // IPython event is triggered only after the cells have been serialised, which for\n",
       "    // our purposes (turning an active figure into a static one), is too late.\n",
       "    var cells = IPython.notebook.get_cells();\n",
       "    var ncells = cells.length;\n",
       "    for (var i=0; i<ncells; i++) {\n",
       "        var cell = cells[i];\n",
       "        if (cell.cell_type === 'code'){\n",
       "            for (var j=0; j<cell.output_area.outputs.length; j++) {\n",
       "                var data = cell.output_area.outputs[j];\n",
       "                if (data.data) {\n",
       "                    // IPython >= 3 moved mimebundle to data attribute of output\n",
       "                    data = data.data;\n",
       "                }\n",
       "                if (data['text/html'] == html_output) {\n",
       "                    return [cell, data, j];\n",
       "                }\n",
       "            }\n",
       "        }\n",
       "    }\n",
       "}\n",
       "\n",
       "// Register the function which deals with the matplotlib target/channel.\n",
       "// The kernel may be null if the page has been refreshed.\n",
       "if (IPython.notebook.kernel != null) {\n",
       "    IPython.notebook.kernel.comm_manager.register_target('matplotlib', mpl.mpl_figure_comm);\n",
       "}\n"
      ],
      "text/plain": [
       "<IPython.core.display.Javascript object>"
      ]
     },
     "metadata": {},
     "output_type": "display_data"
    },
    {
     "data": {
      "text/html": [
       "<img src=\"data:image/png;base64,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\" width=\"640\">"
      ],
      "text/plain": [
       "<IPython.core.display.HTML object>"
      ]
     },
     "metadata": {},
     "output_type": "display_data"
    }
   ],
   "source": [
    "nx.draw_networkx(G)"
   ]
  },
  {
   "cell_type": "markdown",
   "metadata": {},
   "source": [
    "### Question 2\n",
    "\n",
    "How many employees and emails are represented in the graph from Question 1?\n",
    "\n",
    "*This function should return a tuple (#employees, #emails).*"
   ]
  },
  {
   "cell_type": "code",
   "execution_count": 12,
   "metadata": {
    "collapsed": true
   },
   "outputs": [],
   "source": [
    "def answer_two(G):\n",
    "        \n",
    "    # Your Code Here\n",
    "    n_employees = G.number_of_nodes()\n",
    "    n_emails = G.number_of_edges()\n",
    "\n",
    "    return (n_employees, n_emails)# Your Answer Here"
   ]
  },
  {
   "cell_type": "code",
   "execution_count": 13,
   "metadata": {
    "collapsed": false
   },
   "outputs": [
    {
     "name": "stdout",
     "output_type": "stream",
     "text": [
      "n_employees: 167 \n",
      " n_emails: 82927\n"
     ]
    }
   ],
   "source": [
    "n_employees, n_emails = answer_two(G)\n",
    "print('n_employees: {} \\n n_emails: {}'.format(n_employees, n_emails))"
   ]
  },
  {
   "cell_type": "markdown",
   "metadata": {},
   "source": [
    "### Question 3\n",
    "\n",
    "* Part 1. Assume that information in this company can only be exchanged through email.\n",
    "\n",
    "    When an employee sends an email to another employee, a communication channel has been created, allowing the sender to provide information to the receiver, but not vice versa. \n",
    "\n",
    "    Based on the emails sent in the data, is it possible for information to go from every employee to every other employee?\n",
    "\n",
    "\n",
    "* Part 2. Now assume that a communication channel established by an email allows information to be exchanged both ways. \n",
    "\n",
    "    Based on the emails sent in the data, is it possible for information to go from every employee to every other employee?\n",
    "\n",
    "\n",
    "*This function should return a tuple of bools (part1, part2).*"
   ]
  },
  {
   "cell_type": "code",
   "execution_count": 14,
   "metadata": {
    "collapsed": true
   },
   "outputs": [],
   "source": [
    "def answer_three(G):\n",
    "        \n",
    "    # Your Code Here\n",
    "    \n",
    "    return (nx.is_strongly_connected(G),nx.is_weakly_connected(G))# Your Answer Here"
   ]
  },
  {
   "cell_type": "code",
   "execution_count": 16,
   "metadata": {
    "collapsed": false
   },
   "outputs": [
    {
     "data": {
      "text/plain": [
       "(False, True)"
      ]
     },
     "execution_count": 16,
     "metadata": {},
     "output_type": "execute_result"
    }
   ],
   "source": [
    "answer_three(G)"
   ]
  },
  {
   "cell_type": "markdown",
   "metadata": {},
   "source": [
    "### Question 4\n",
    "\n",
    "How many nodes are in the largest (in terms of nodes) weakly connected component?\n",
    "\n",
    "*This function should return an int.*"
   ]
  },
  {
   "cell_type": "code",
   "execution_count": 27,
   "metadata": {
    "collapsed": true,
    "scrolled": true
   },
   "outputs": [],
   "source": [
    "def answer_four(G):\n",
    "        \n",
    "    # Your Code Here\n",
    "    \n",
    "    return len(sorted(nx.weakly_connected_components(G), reverse=True)[0])# Your Answer Here"
   ]
  },
  {
   "cell_type": "code",
   "execution_count": 28,
   "metadata": {
    "collapsed": false
   },
   "outputs": [
    {
     "data": {
      "text/plain": [
       "167"
      ]
     },
     "execution_count": 28,
     "metadata": {},
     "output_type": "execute_result"
    }
   ],
   "source": [
    "answer_four(G)"
   ]
  },
  {
   "cell_type": "markdown",
   "metadata": {},
   "source": [
    "### Question 5\n",
    "\n",
    "How many nodes are in the largest (in terms of nodes) strongly connected component?\n",
    "\n",
    "*This function should return an int*"
   ]
  },
  {
   "cell_type": "code",
   "execution_count": 37,
   "metadata": {
    "collapsed": true
   },
   "outputs": [],
   "source": [
    "def answer_five(G):\n",
    "        \n",
    "    # Your Code Here\n",
    "    # sorted by the length of the component\n",
    "    return len(sorted(nx.strongly_connected_components(G), key = lambda x: len(x), reverse=True)[0])# Your Answer Here"
   ]
  },
  {
   "cell_type": "code",
   "execution_count": 38,
   "metadata": {
    "collapsed": false
   },
   "outputs": [
    {
     "data": {
      "text/plain": [
       "126"
      ]
     },
     "execution_count": 38,
     "metadata": {},
     "output_type": "execute_result"
    }
   ],
   "source": [
    "answer_five(G)"
   ]
  },
  {
   "cell_type": "markdown",
   "metadata": {},
   "source": [
    "### Question 6\n",
    "\n",
    "Using the NetworkX function strongly_connected_component_subgraphs, find the subgraph of nodes in a largest strongly connected component. \n",
    "Call this graph G_sc.\n",
    "\n",
    "*This function should return a networkx MultiDiGraph named G_sc.*"
   ]
  },
  {
   "cell_type": "code",
   "execution_count": 49,
   "metadata": {
    "collapsed": true
   },
   "outputs": [],
   "source": [
    "def answer_six(G):\n",
    "        \n",
    "    # Your Code Here\n",
    "    G_sc = sorted(nx.strongly_connected_component_subgraphs(G), key=len, reverse=True)[0]\n",
    "    return G_sc# Your Answer Here"
   ]
  },
  {
   "cell_type": "code",
   "execution_count": 61,
   "metadata": {
    "collapsed": false
   },
   "outputs": [
    {
     "data": {
      "text/plain": [
       "networkx.classes.multidigraph.MultiDiGraph"
      ]
     },
     "execution_count": 61,
     "metadata": {},
     "output_type": "execute_result"
    }
   ],
   "source": [
    "G_sc = answer_six(G)\n",
    "type(G_sc)"
   ]
  },
  {
   "cell_type": "markdown",
   "metadata": {},
   "source": [
    "### Question 7\n",
    "\n",
    "What is the average distance between nodes in G_sc?\n",
    "\n",
    "*This function should return a float.*"
   ]
  },
  {
   "cell_type": "code",
   "execution_count": 51,
   "metadata": {
    "collapsed": true
   },
   "outputs": [],
   "source": [
    "def answer_seven(G):\n",
    "        \n",
    "    # Your Code Here\n",
    "    d = nx.average_shortest_path_length(G)\n",
    "    \n",
    "    return d# Your Answer Here"
   ]
  },
  {
   "cell_type": "code",
   "execution_count": 60,
   "metadata": {
    "collapsed": false
   },
   "outputs": [
    {
     "data": {
      "text/plain": [
       "1.6461587301587302"
      ]
     },
     "execution_count": 60,
     "metadata": {},
     "output_type": "execute_result"
    }
   ],
   "source": [
    "answer_seven(G_sc)"
   ]
  },
  {
   "cell_type": "markdown",
   "metadata": {},
   "source": [
    "### Question 8\n",
    "\n",
    "What is the largest possible distance between two employees in G_sc?\n",
    "\n",
    "*This function should return an int.*"
   ]
  },
  {
   "cell_type": "code",
   "execution_count": 63,
   "metadata": {
    "collapsed": false
   },
   "outputs": [],
   "source": [
    "def answer_eight(G):\n",
    "        \n",
    "    # Your Code Here\n",
    "    \n",
    "    return nx.diameter(G)# Your Answer Here"
   ]
  },
  {
   "cell_type": "code",
   "execution_count": 64,
   "metadata": {
    "collapsed": false
   },
   "outputs": [
    {
     "data": {
      "text/plain": [
       "3"
      ]
     },
     "execution_count": 64,
     "metadata": {},
     "output_type": "execute_result"
    }
   ],
   "source": [
    "answer_eight(G_sc)"
   ]
  },
  {
   "cell_type": "markdown",
   "metadata": {},
   "source": [
    "### Question 9\n",
    "\n",
    "What is the set of nodes in G_sc with eccentricity equal to the diameter?\n",
    "\n",
    "*This function should return a set of the node(s).*"
   ]
  },
  {
   "cell_type": "code",
   "execution_count": 65,
   "metadata": {
    "collapsed": true
   },
   "outputs": [],
   "source": [
    "def answer_nine(G):\n",
    "       \n",
    "    # Your Code Here\n",
    "    \n",
    "    return nx.periphery(G)# Your Answer Here"
   ]
  },
  {
   "cell_type": "code",
   "execution_count": 66,
   "metadata": {
    "collapsed": false
   },
   "outputs": [
    {
     "data": {
      "text/plain": [
       "['129', '134', '97']"
      ]
     },
     "execution_count": 66,
     "metadata": {},
     "output_type": "execute_result"
    }
   ],
   "source": [
    "answer_nine(G_sc)"
   ]
  },
  {
   "cell_type": "markdown",
   "metadata": {},
   "source": [
    "### Question 10\n",
    "\n",
    "What is the set of node(s) in G_sc with eccentricity equal to the radius?\n",
    "\n",
    "*This function should return a set of the node(s).*"
   ]
  },
  {
   "cell_type": "code",
   "execution_count": 67,
   "metadata": {
    "collapsed": false
   },
   "outputs": [
    {
     "data": {
      "text/plain": [
       "['38']"
      ]
     },
     "execution_count": 67,
     "metadata": {},
     "output_type": "execute_result"
    }
   ],
   "source": [
    "def answer_ten(G):\n",
    "        \n",
    "    # Your Code Here\n",
    "    \n",
    "    return nx.center(G)# Your Answer Here\n",
    "answer_ten(G_sc)"
   ]
  },
  {
   "cell_type": "markdown",
   "metadata": {},
   "source": [
    "### Question 11\n",
    "\n",
    "Which node in G_sc has the most shortest paths to other nodes whose distance equal the diameter of G_sc?\n",
    "\n",
    "\n",
    "How many of these paths are there?\n",
    "\n",
    "\n",
    "*This function should return a tuple (name of node, number of paths).*"
   ]
  },
  {
   "cell_type": "code",
   "execution_count": 86,
   "metadata": {
    "collapsed": true
   },
   "outputs": [],
   "source": [
    "def answer_eleven():\n",
    "        \n",
    "    # Your Code Here\n",
    "    dic = dict()  \n",
    "    for k,v in nx.shortest_path(G_sc).items():\n",
    "        dic[k] = [len(x) for x in nx.shortest_path(G_sc)[k].values()] ### dic stores the len(shortest_path) of a node to all other nodes)\n",
    "    dic2 = {x: y.count(answer_eight(G_sc)) for x, y in dic.items()} ### dic2 stores the number of shortest lengths which are equal to the diameter\n",
    "    ans = [(k, dic2[k]) for k in sorted(dic2, key=dic2.get, reverse=True)] ###sorted dic2 in tuple form\n",
    "    return ans[0][0]# Your Answer Here"
   ]
  },
  {
   "cell_type": "code",
   "execution_count": 88,
   "metadata": {
    "collapsed": false
   },
   "outputs": [
    {
     "data": {
      "text/plain": [
       "'134'"
      ]
     },
     "execution_count": 88,
     "metadata": {},
     "output_type": "execute_result"
    }
   ],
   "source": [
    "answer_eleven()"
   ]
  },
  {
   "cell_type": "markdown",
   "metadata": {},
   "source": [
    "### Question 12\n",
    "\n",
    "Suppose you want to prevent communication from flowing to the node that you found in the previous question from any node in the center of G_sc, what is the smallest number of nodes you would need to remove from the graph (you're not allowed to remove the node from the previous question or the center nodes)? \n",
    "\n",
    "*This function should return an integer.*"
   ]
  },
  {
   "cell_type": "code",
   "execution_count": 103,
   "metadata": {
    "collapsed": false
   },
   "outputs": [],
   "source": [
    "def answer_twelve():\n",
    "        \n",
    "    # Your Code Here\n",
    "    centers = nx.center(G_sc)\n",
    "    target = answer_eleven()\n",
    "    lst = []\n",
    "    for c in centers:\n",
    "        nodes = nx.minimum_node_cut(G_sc, c, answer_eleven())\n",
    "        for n in nodes:\n",
    "            if n in centers+[target]:\n",
    "                continue\n",
    "            lst.append(n)\n",
    "    return len(set(lst))# Your Answer Here"
   ]
  },
  {
   "cell_type": "code",
   "execution_count": 104,
   "metadata": {
    "collapsed": false
   },
   "outputs": [
    {
     "data": {
      "text/plain": [
       "2"
      ]
     },
     "execution_count": 104,
     "metadata": {},
     "output_type": "execute_result"
    }
   ],
   "source": [
    "answer_twelve()"
   ]
  },
  {
   "cell_type": "markdown",
   "metadata": {},
   "source": [
    "### Question 13\n",
    "\n",
    "Construct an undirected graph G_un using G_sc (you can ignore the attributes).\n",
    "\n",
    "*This function should return a networkx Graph.*"
   ]
  },
  {
   "cell_type": "code",
   "execution_count": 105,
   "metadata": {
    "collapsed": true
   },
   "outputs": [],
   "source": [
    "def answer_thirteen():\n",
    "        \n",
    "    # Your Code Here\n",
    "    G_un = nx.Graph(G_sc)\n",
    "    return G_un # Your Answer Here"
   ]
  },
  {
   "cell_type": "code",
   "execution_count": 106,
   "metadata": {
    "collapsed": true
   },
   "outputs": [],
   "source": [
    "G_un = answer_thirteen()"
   ]
  },
  {
   "cell_type": "markdown",
   "metadata": {},
   "source": [
    "### Question 14\n",
    "\n",
    "What is the transitivity and average clustering coefficient of graph G_un?\n",
    "\n",
    "*This function should return a tuple (transitivity, avg clustering).*"
   ]
  },
  {
   "cell_type": "code",
   "execution_count": 112,
   "metadata": {
    "collapsed": true
   },
   "outputs": [],
   "source": [
    "def answer_fourteen(G):\n",
    "        \n",
    "    # Your Code Here\n",
    "    \n",
    "    return (nx.transitivity(G), nx.average_clustering(G))# Your Answer Here"
   ]
  },
  {
   "cell_type": "code",
   "execution_count": 113,
   "metadata": {
    "collapsed": false
   },
   "outputs": [
    {
     "data": {
      "text/plain": [
       "(0.570111160700385, 0.6975272437231418)"
      ]
     },
     "execution_count": 113,
     "metadata": {},
     "output_type": "execute_result"
    }
   ],
   "source": [
    "answer_fourteen(G_un)"
   ]
  },
  {
   "cell_type": "code",
   "execution_count": 115,
   "metadata": {
    "collapsed": false
   },
   "outputs": [],
   "source": [
    "G_un2 = nx.Graph(G_sc.to_undirected())"
   ]
  },
  {
   "cell_type": "code",
   "execution_count": 116,
   "metadata": {
    "collapsed": false
   },
   "outputs": [
    {
     "data": {
      "text/plain": [
       "(0.570111160700385, 0.6975272437231418)"
      ]
     },
     "execution_count": 116,
     "metadata": {},
     "output_type": "execute_result"
    }
   ],
   "source": [
    "answer_fourteen(G_un2)"
   ]
  },
  {
   "cell_type": "code",
   "execution_count": null,
   "metadata": {
    "collapsed": true
   },
   "outputs": [],
   "source": []
  }
 ],
 "metadata": {
  "coursera": {
   "course_slug": "python-social-network-analysis",
   "graded_item_id": "jMCHR",
   "launcher_item_id": "7RsKp",
   "part_id": "E9gn5"
  },
  "kernelspec": {
   "display_name": "Python 3",
   "language": "python",
   "name": "python3"
  },
  "language_info": {
   "codemirror_mode": {
    "name": "ipython",
    "version": 3
   },
   "file_extension": ".py",
   "mimetype": "text/x-python",
   "name": "python",
   "nbconvert_exporter": "python",
   "pygments_lexer": "ipython3",
   "version": "3.5.2"
  }
 },
 "nbformat": 4,
 "nbformat_minor": 2
}
